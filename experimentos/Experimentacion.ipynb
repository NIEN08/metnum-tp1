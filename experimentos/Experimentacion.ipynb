{
 "cells": [
  {
   "cell_type": "code",
   "execution_count": 31,
   "metadata": {
    "collapsed": false
   },
   "outputs": [
    {
     "name": "stdout",
     "output_type": "stream",
     "text": [
      "Salteando experimento experimento1-1\n",
      "Salteando experimento experimento1-2\n",
      "Salteando experimento experimento1-3\n",
      "Salteando experimento experimento2-1\n",
      "Comenzando experimento experimento3-1\n",
      "Corriendo subexperimento experimento3-1-0\n",
      "Corriendo subexperimento experimento3-1-1\n",
      "Corriendo subexperimento experimento3-1-2\n",
      "Corriendo subexperimento experimento3-1-3\n",
      "Corriendo subexperimento experimento3-1-4\n",
      "Corriendo subexperimento experimento3-1-5\n",
      "Corriendo subexperimento experimento3-1-6\n",
      "Corriendo subexperimento experimento3-1-7\n",
      "Corriendo subexperimento experimento3-1-8\n",
      "Corriendo subexperimento experimento3-1-9\n",
      "Corriendo subexperimento experimento3-1-10\n",
      "CSV guardado\n",
      "Experimento experimento3-1 finalizado\n"
     ]
    }
   ],
   "source": [
    "%matplotlib inline\n",
    "import pandas as pd\n",
    "import subprocess\n",
    "import itertools\n",
    "import numpy as np\n",
    "\n",
    "# Configuracion\n",
    "command = \"./tp {input} {output} {method}\"\n",
    "\n",
    "tests = [\n",
    "    {'input': 'experimento1-1',\n",
    "     'output': 'experimento1-1-outputs/{method}-{h}.txt',\n",
    "     'method': [0, 1],\n",
    "     'skip': 1,\n",
    "     'h': [0.5, 0.8, 1.0, 1.25, 2.0, 2.5, 4.0, 5.0, 6.25, 10.0, 12.5]},\n",
    "    {'input': 'experimento1-2',\n",
    "     'output': 'experimento1-2-outputs/{method}-{h}.txt',\n",
    "     'method': [0, 1],\n",
    "     'skip': 1,\n",
    "     'h': [0.5, 0.8, 1.0, 1.25, 2.0, 2.5, 4.0, 5.0, 6.25, 10.0, 12.5]},\n",
    "    {'input': 'experimento1-3',\n",
    "     'output': 'experimento1-3-outputs/{method}-{h}.txt',\n",
    "     'skip': 1,\n",
    "     'method': [0, 1],\n",
    "     'h': [0.5, 0.8, 1.0, 1.25, 2.0, 2.5, 4.0, 5.0, 6.25, 10.0, 12.5]},\n",
    "    {'input': 'experimento2-1',\n",
    "     'output': 'experimento2-1-outputs/{name}-{method}-{h}.txt',\n",
    "     'method': [0, 1],\n",
    "     'runs': 5,\n",
    "     'skip': 1,\n",
    "     'h': [0.5, 0.8, 1.0, 1.25, 2.0, 2.5, 4.0, 5.0, 6.25, 10.0, 12.5]},\n",
    "    {'input': 'experimento3-1',\n",
    "     'inputs': ['experimento3-1-0', 'experimento3-1-1', 'experimento3-1-2', 'experimento3-1-3', 'experimento3-1-4', 'experimento3-1-5', 'experimento3-1-6', 'experimento3-1-7', 'experimento3-1-8', 'experimento3-1-9', 'experimento3-1-10'],\n",
    "     'output': 'experimento3-1-outputs/{name}-{method}-{h}.txt',\n",
    "     'method': [2, 3],\n",
    "     'h': [1]}]\n",
    "\n",
    "# Generacion de datos\n",
    "for file in tests:\n",
    "    name = file['input']\n",
    "    \n",
    "    dataset = []\n",
    "    \n",
    "    try:\n",
    "        if file['skip']:\n",
    "            print 'Salteando experimento', name\n",
    "            continue\n",
    "    except:\n",
    "        pass\n",
    "    \n",
    "    print 'Comenzando experimento', name\n",
    "    \n",
    "    try:\n",
    "        names = file['inputs']\n",
    "    except:\n",
    "        names = [name]\n",
    "        \n",
    "    for nameI in names:\n",
    "        print 'Corriendo subexperimento', nameI\n",
    "        \n",
    "        with open(nameI + '.input', 'r') as handle:\n",
    "            file['contents'] = handle.read()\n",
    "\n",
    "            for (run_method, run_h) in itertools.product(file['method'], file['h']):\n",
    "                output = {}\n",
    "                output['name'] = nameI\n",
    "                output['method'] = run_method\n",
    "                output['h'] = run_h\n",
    "\n",
    "                with open('/tmp/tmp.test', 'w+') as writer:\n",
    "                    writer.write(file['contents'].format(h=run_h))\n",
    "\n",
    "                outFile = file['output'].format(name=nameI, h=run_h, method=run_method)\n",
    "                \n",
    "                try:\n",
    "                    runs = file['runs']\n",
    "                except:\n",
    "                    runs = 1\n",
    "                \n",
    "                for r in xrange(runs):\n",
    "                    fmt = command.format(input='/tmp/tmp.test', output=outFile, method=run_method)\n",
    "                    runtime = subprocess.check_output(fmt, shell=True)\n",
    "\n",
    "                    for line in runtime.split('\\n'):\n",
    "                        if line:\n",
    "                            line = line.split(':')\n",
    "                            line[0] = line[0].strip().lower()\n",
    "                            line[1] = float(line[1].strip())\n",
    "                            output[line[0]] = line[1]\n",
    "\n",
    "                    dataset.append(output)\n",
    "\n",
    "    dataset = pd.DataFrame(dataset)\n",
    "    dataset.to_csv(name + '.csv', index=False)\n",
    "    print 'CSV guardado'\n",
    "        \n",
    "    print 'Experimento', name, 'finalizado'"
   ]
  },
  {
   "cell_type": "code",
   "execution_count": null,
   "metadata": {
    "collapsed": false,
    "scrolled": true
   },
   "outputs": [],
   "source": [
    "# Experimento 1-1\n",
    "# Muchas sanguijuelas pequeñas cerca del punto crítico, la idea es que a medida que aumentemos la granularidad\n",
    "# van a empezar a aparecer en la discretización, haciendo que la temperatura del punto crítico vaya tornándose\n",
    "# cada vez más alta.\n",
    "import numpy.random as npr\n",
    "\n",
    "n=50\n",
    "width=100\n",
    "height=100\n",
    "\n",
    "minX = width/2 - 5\n",
    "maxX = width/2 + 5\n",
    "minY = height/2 - 5\n",
    "maxY = height/2 + 5\n",
    "\n",
    "posX = npr.uniform(minX, maxX, n)\n",
    "posY = npr.uniform(minY, maxY, n)\n",
    "radius = map(abs, npr.normal(0.5, max([maxX - minX, maxY - minY]), n))\n",
    "temperatures = npr.exponential(100, n)\n",
    "\n",
    "output = zip(posX, posY, radius, temperatures)\n",
    "\n",
    "print width, height, \"{h}\", n\n",
    "for (x, y, r, t) in output:\n",
    "    print x, y, r, t"
   ]
  },
  {
   "cell_type": "code",
   "execution_count": null,
   "metadata": {
    "collapsed": false
   },
   "outputs": [],
   "source": [
    "# Experimento 1-2\n",
    "# Sanguijuelas alejadas, de un radio comparativamente grande.\n",
    "# Lo que debería suceder en este caso es que no se modificaría la temperatura del punto crítico a medida\n",
    "# que incrementemos la granularidad.\n",
    "import numpy.random as npr\n",
    "\n",
    "n=50\n",
    "width=100\n",
    "height=100\n",
    "\n",
    "posX = npr.uniform(0, width, n)\n",
    "posY = npr.uniform(0, height, n)\n",
    "radius = map(abs, npr.normal(2, max(width, height), n))\n",
    "temperatures = npr.exponential(100, n)\n",
    "\n",
    "output = zip(posX, posY, radius, temperatures)\n",
    "\n",
    "print width, height, \"{h}\", n\n",
    "for (x, y, r, t) in output:\n",
    "    print x, y, r, t"
   ]
  },
  {
   "cell_type": "code",
   "execution_count": null,
   "metadata": {
    "collapsed": false
   },
   "outputs": [],
   "source": [
    "# Experimento 1-3\n",
    "# Tomar sanguijuelas pequeñas, alejadas del centro, con temperaturas muy altas.\n",
    "# Si las temperaturas son lo suficientemente altas se deberían propagar hacia el centro a medida que aumente h\n",
    "import numpy.random as npr\n",
    "\n",
    "n=50\n",
    "width=100\n",
    "height=100\n",
    "\n",
    "posX = npr.uniform(0, width, n)\n",
    "posY = npr.uniform(0, height, n)\n",
    "radius = map(abs, npr.normal(0.1, max(width, height)/10, n))\n",
    "temperatures = npr.exponential(300, n)\n",
    "\n",
    "output = zip(posX, posY, radius, temperatures)\n",
    "\n",
    "print width, height, \"{h}\", n\n",
    "for (x, y, r, t) in output:\n",
    "    print x, y, r, t"
   ]
  },
  {
   "cell_type": "code",
   "execution_count": null,
   "metadata": {
    "collapsed": false
   },
   "outputs": [],
   "source": [
    "# Experimento 2-1\n",
    "# Este experimento es solo para ver que pasa con las sanguis\n",
    "import numpy.random as npr\n",
    "\n",
    "n=50\n",
    "width=100\n",
    "height=100\n",
    "\n",
    "posX = npr.uniform(0, 10, n)\n",
    "posY = npr.uniform(0, 10, n)\n",
    "radius = npr.uniform(0, 10, n)\n",
    "temperatures = npr.exponential(300, n)\n",
    "\n",
    "output = zip(posX, posY, radius, temperatures)\n",
    "\n",
    "print width, height, \"{h}\", n\n",
    "for (x, y, r, t) in output:\n",
    "    print x, y, r, t"
   ]
  },
  {
   "cell_type": "code",
   "execution_count": 30,
   "metadata": {
    "collapsed": false
   },
   "outputs": [
    {
     "name": "stdout",
     "output_type": "stream",
     "text": [
      "[0.73375020126714352, 0.77704991609135532, 0.3752746091405188, 0.45363763615870983, 0.4342259936849524, 0.48858273988913953, 0.63700273420250064, 0.58301357017597633, 0.61245516781487397, 0.61023191432081458, 0.53441229872397011, 0.64539097000900125, 0.29581252920873613, 0.32348586041241112, 0.54085727462825894, 0.43549095607970062, 0.75002780383054479, 0.77815749820053615, 0.37992023331517538, 0.69272307585152459, 0.73292886840060389, 0.44711178437322407, 0.38245500238115482, 0.79118393652752173, 0.78939862468618771, 0.55690802998260502, 0.57112566175195878, 0.62048134931345555, 0.29606053738156168, 0.20574538544666907]\n",
      "0.0 30.0\n",
      "3.0 27.0\n",
      "6.0 24.0\n",
      "9.0 21.0\n",
      "12.0 18.0\n",
      "15.0 15.0\n",
      "18.0 12.0\n",
      "21.0 9.0\n",
      "24.0 6.0\n",
      "27.0 3.0\n",
      "30.0 0.0\n"
     ]
    }
   ],
   "source": [
    "# Experimento 3-1\n",
    "# Tomamos una grilla de sanguijuelas situadas en los puntos de la discretización (no variamos el h)\n",
    "# y vamos aumentando la cantidad de sanguijuelas unitarias (es decir, las que tienen radio < h).\n",
    "\n",
    "# IMPORTANTE: Si se cambia el h, cambiarlo en el primer casillero también\n",
    "import numpy as np\n",
    "import numpy.random as npr\n",
    "import copy\n",
    "import itertools\n",
    "\n",
    "width=100\n",
    "height=100\n",
    "h = 1\n",
    "percentages = [0, 0.1, 0.2, 0.3, 0.4, 0.5, 0.6, 0.7, 0.8, 0.9, 1.0]\n",
    "outputs = ['experimento3-1-0', 'experimento3-1-1', 'experimento3-1-2', 'experimento3-1-3', 'experimento3-1-4', 'experimento3-1-5', 'experimento3-1-6', 'experimento3-1-7', 'experimento3-1-8', 'experimento3-1-9', 'experimento3-1-10']\n",
    "\n",
    "posX = list(np.arange(0, width, h))\n",
    "posY = list(np.arange(0, height, h))\n",
    "\n",
    "# Aca comienza el codigo\n",
    "\n",
    "n = 31\n",
    "radiusLower = list(npr.uniform(0.2, h - 0.2, n - 1))\n",
    "print radiusLower\n",
    "radiusHigher = list(npr.uniform(h + 0.1, h + 0.4, n - 1))\n",
    "temperatures = list(npr.exponential(300, n - 1))\n",
    "positions = list(itertools.product(posX, posY))\n",
    "\n",
    "for (fname, x) in zip(outputs, percentages):\n",
    "    with open(fname + '.input', 'w+') as handle:        \n",
    "        print >> handle, width, height, \"{h}\", n\n",
    "        leftPositions = copy.deepcopy(positions)\n",
    "        leftRL = copy.deepcopy(radiusLower)\n",
    "        leftRH = copy.deepcopy(radiusHigher)\n",
    "        leftT = copy.deepcopy(temperatures)\n",
    "\n",
    "        noUnitarias = round(x*float(n - 1))\n",
    "        unitarias = float(n - 1) - noUnitarias\n",
    "        \n",
    "        t = noUnitarias\n",
    "        noUnitarias = unitarias\n",
    "        unitarias = t\n",
    "        print unitarias, noUnitarias\n",
    "\n",
    "        i = 0\n",
    "        while i < unitarias:\n",
    "            # Generamos la cantidad de sanguijuelas unitarias que hagan falta\n",
    "            (x, y) = leftPositions.pop()\n",
    "            r = leftRL.pop()\n",
    "            t = leftT.pop()\n",
    "\n",
    "            print >> handle, x, y, r, t\n",
    "            i += 1.0\n",
    "\n",
    "        i = 0\n",
    "        while i < noUnitarias:\n",
    "            # El resto son sanguijuelas no unitarias\n",
    "            (x, y) = leftPositions.pop()\n",
    "            r = leftRH.pop()\n",
    "            t = leftT.pop()\n",
    "\n",
    "            print >> handle, x, y, r, t\n",
    "            i += 1.0\n",
    "        \n",
    "        print >> handle, (width/2)/h, (height/2)/h, h - 0.4354, 1000.0"
   ]
  },
  {
   "cell_type": "code",
   "execution_count": 32,
   "metadata": {
    "collapsed": false
   },
   "outputs": [
    {
     "data": {
      "text/plain": [
       "[(0.01, 100000000.0),\n",
       " (0.02, 25000000.0),\n",
       " (0.040000000000000001, 6250000.0),\n",
       " (0.050000000000000003, 4000000.0),\n",
       " (0.080000000000000002, 1562500.0),\n",
       " (0.16, 390625.0),\n",
       " (0.20000000000000001, 250000.0),\n",
       " (0.25, 160000.0),\n",
       " (0.40000000000000002, 62500.0),\n",
       " (0.5, 40000.0),\n",
       " (0.80000000000000004, 15625.0),\n",
       " (1.0, 10000.0),\n",
       " (1.25, 6400.0),\n",
       " (2.0, 2500.0),\n",
       " (2.5, 1600.0),\n",
       " (4.0, 625.0),\n",
       " (5.0, 400.0),\n",
       " (6.25, 256.0),\n",
       " (10.0, 100.0),\n",
       " (12.5, 64.0),\n",
       " (50.0, 4.0)]"
      ]
     },
     "execution_count": 32,
     "metadata": {},
     "output_type": "execute_result"
    }
   ],
   "source": [
    "# Selección de los h para la experimentación, queremos ver qué h sirven con el width y height que buscamos.\n",
    "# Si hay más de 50 000 de dims, va a ser complicado que el experimento corra bien, asi que el h tiene que\n",
    "# estar por debajo de eso para que la cosa ande.\n",
    "width=100.0\n",
    "height=100.0\n",
    "\n",
    "lst = [x for x in np.arange(0.01, 100, 0.01) if round(width/x) == width/x and round(height/x) == height/x]\n",
    "[(x, (width/x)*(height/x)) for x in lst]"
   ]
  },
  {
   "cell_type": "code",
   "execution_count": 33,
   "metadata": {
    "collapsed": false
   },
   "outputs": [
    {
     "data": {
      "text/plain": [
       "[0.5, 0.8, 1.0, 1.25, 2.0, 2.5, 4.0, 5.0, 6.25, 10.0, 12.5, 50.0]"
      ]
     },
     "execution_count": 33,
     "metadata": {},
     "output_type": "execute_result"
    }
   ],
   "source": [
    "map(lambda (x, y): x, [(0.5, 40000.0), (0.80000000000000004, 15625.0), (1.0, 10000.0), (1.25, 6400.0), (2.0, 2500.0), (2.5, 1600.0), (4.0, 625.0), (5.0, 400.0), (6.25, 256.0), (10.0, 100.0), (12.5, 64.0), (50.0, 4.0)])"
   ]
  },
  {
   "cell_type": "code",
   "execution_count": null,
   "metadata": {
    "collapsed": true
   },
   "outputs": [],
   "source": []
  }
 ],
 "metadata": {
  "kernelspec": {
   "display_name": "Python 2",
   "language": "python",
   "name": "python2"
  },
  "language_info": {
   "codemirror_mode": {
    "name": "ipython",
    "version": 2
   },
   "file_extension": ".py",
   "mimetype": "text/x-python",
   "name": "python",
   "nbconvert_exporter": "python",
   "pygments_lexer": "ipython2",
   "version": "2.7.9"
  }
 },
 "nbformat": 4,
 "nbformat_minor": 0
}
