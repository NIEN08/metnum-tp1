{
 "cells": [
  {
   "cell_type": "code",
   "execution_count": 2,
   "metadata": {
    "collapsed": true
   },
   "outputs": [],
   "source": [
    "%matplotlib inline\n",
    "import pandas as pd\n",
    "import subprocess\n",
    "import itertools"
   ]
  },
  {
   "cell_type": "code",
   "execution_count": null,
   "metadata": {
    "collapsed": true
   },
   "outputs": [],
   "source": [
    "dataset = []\n",
    "\n",
    "ctrl = '\\t\\t\\n'\n",
    "command = \"./TP1 {input} {output} {method}\"\n",
    "\n",
    "tests = [\n",
    "    {'input': 'input1.test',\n",
    "     'output': 'output1-{method}-{h}.test',\n",
    "     'method': [3, 4],\n",
    "     'h': [5, 2, 1, 0.5]},\n",
    "    {'input': 'input2.test',\n",
    "     'output': 'output2-{method}-{h}.test',\n",
    "     'method': [1, 2, 3, 4],\n",
    "     'h': [10, 5, 2.5, 2, 1.5, 1, 0.75, 0.5, 0.25, 0.1]},\n",
    "    {'input': 'input3.test',\n",
    "     'output': 'output3-{method}-{h}.test',\n",
    "     'method': [1, 2],\n",
    "     'h': [2.5, 1, 0.5, 0.25]},\n",
    "    {'input': 'input4.test',\n",
    "     'output': 'output4-{method}-{h}.test',\n",
    "     'method': [1, 2, 3, 4],\n",
    "     'h': [0]\n",
    "    }]\n",
    "\n",
    "for file in tests:\n",
    "    name = file['input']\n",
    "    \n",
    "    with open(file['input'], 'r') as handle:\n",
    "        file['contents'] = handle.read()\n",
    "        blocks = file['contents'].split(ctrl)\n",
    "        \n",
    "        for block in blocks:\n",
    "            for (run_method, run_h) in itertools.product(file['method'], file['h']):\n",
    "                output = {}\n",
    "                output['name'] = name\n",
    "                output['method'] = run_method\n",
    "                output['h'] = run_h\n",
    "                \n",
    "                if run_h != 0:\n",
    "                    inText = block.format(h=run_h)\n",
    "                \n",
    "                with open('tmp.test', 'w+') as writer:\n",
    "                    writer.write(inText)\n",
    "                \n",
    "                outFile = file['output'].format(h=run_h, method=run_method)\n",
    "                fmt = command.format(input='tmp.test', output=outFile, method=run_method)\n",
    "                runtime = subprocess.check_output(fmt, shell=True)\n",
    "                output['runtime'] = runtime"
   ]
  }
 ],
 "metadata": {
  "kernelspec": {
   "display_name": "Python 3",
   "language": "python",
   "name": "python3"
  },
  "language_info": {
   "codemirror_mode": {
    "name": "ipython",
    "version": 3
   },
   "file_extension": ".py",
   "mimetype": "text/x-python",
   "name": "python",
   "nbconvert_exporter": "python",
   "pygments_lexer": "ipython3",
   "version": "3.4.2"
  }
 },
 "nbformat": 4,
 "nbformat_minor": 0
}
