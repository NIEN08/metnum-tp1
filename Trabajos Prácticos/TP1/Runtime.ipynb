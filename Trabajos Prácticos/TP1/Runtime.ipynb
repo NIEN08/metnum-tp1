{
 "cells": [
  {
   "cell_type": "code",
   "execution_count": 1,
   "metadata": {
    "collapsed": true
   },
   "outputs": [],
   "source": [
    "%matplotlib inline\n",
    "import pandas as pd\n",
    "import subprocess"
   ]
  },
  {
   "cell_type": "code",
   "execution_count": null,
   "metadata": {
    "collapsed": true
   },
   "outputs": [],
   "source": [
    "dataset = {}\n",
    "\n",
    "command = \"./TP1 {input} {output} {method}\"\n",
    "\n",
    "tests = [\n",
    "    {'input': 'input1.test',\n",
    "     'output': 'output1.test',\n",
    "     'method': ['0'],\n",
    "     'h': []}]\n",
    "for file in tests:\n",
    "    for method in file['method']:\n",
    "        with open(file['input'], 'w') as handle:\n",
    "            \n",
    "        fmt = command.format(input = file['input'], output = file['output'], method)\n",
    "        output = subprocess.check_output(command, shell=True)"
   ]
  }
 ],
 "metadata": {
  "kernelspec": {
   "display_name": "Python 3",
   "language": "python",
   "name": "python3"
  },
  "language_info": {
   "codemirror_mode": {
    "name": "ipython",
    "version": 3
   },
   "file_extension": ".py",
   "mimetype": "text/x-python",
   "name": "python",
   "nbconvert_exporter": "python",
   "pygments_lexer": "ipython3",
   "version": "3.4.2"
  }
 },
 "nbformat": 4,
 "nbformat_minor": 0
}
